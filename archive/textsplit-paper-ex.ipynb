{
 "cells": [
  {
   "cell_type": "markdown",
   "metadata": {},
   "source": [
    "# Use of [textsplit](https://github.com/chschock/textsplit) repository to segment academic papers"
   ]
  },
  {
   "cell_type": "markdown",
   "metadata": {},
   "source": [
    "- Uses word2vec\n",
    "- Adapted from HowTo.iypnb in textsplit repo"
   ]
  },
  {
   "cell_type": "markdown",
   "metadata": {},
   "source": [
    "### Imports"
   ]
  },
  {
   "cell_type": "code",
   "execution_count": 3,
   "metadata": {},
   "outputs": [
    {
     "name": "stderr",
     "output_type": "stream",
     "text": [
      "Matplotlib is building the font cache; this may take a moment.\n"
     ]
    }
   ],
   "source": [
    "import os\n",
    "import word2vec\n",
    "import pandas as pd\n",
    "import gensim\n",
    "import numpy as np\n",
    "from sklearn.feature_extraction.text import CountVectorizer\n",
    "%matplotlib inline\n",
    "from textsplit.tools import SimpleSentenceTokenizer\n",
    "from textsplit.tools import get_penalty, get_segments\n",
    "from textsplit.algorithm import split_optimal, split_greedy, get_total"
   ]
  },
  {
   "cell_type": "markdown",
   "metadata": {},
   "source": [
    "### Preprocess Target Text to Segment"
   ]
  },
  {
   "cell_type": "code",
   "execution_count": 23,
   "metadata": {},
   "outputs": [],
   "source": [
    "import PyPDF2\n",
    "\n",
    "def add_eof_marker(pdf_file_path):\n",
    "    \"\"\"Adds the %%EOF marker at the end of a PDF file if missing.\"\"\"\n",
    "    try:\n",
    "        with open(pdf_file_path, 'rb') as file:\n",
    "            file.seek(-512, 2)  # Seek to the last 512 bytes\n",
    "            content = file.read()\n",
    "\n",
    "            # Check if the %%EOF marker is missing\n",
    "            if b\"%%EOF\" not in content:\n",
    "                print(\"%%EOF marker is missing. Adding it now.\")\n",
    "                \n",
    "                # Append the %%EOF marker at the end of the file\n",
    "                with open(pdf_file_path, 'ab') as append_file:  # Open file in append mode\n",
    "                    append_file.write(b\"\\n%%EOF\\n\")\n",
    "                print(\"%%EOF marker added successfully.\")\n",
    "            else:\n",
    "                print(\"The PDF already contains a valid %%EOF marker.\")\n",
    "    except Exception as e:\n",
    "        print(f\"Error processing the PDF: {e}\")\n",
    "\n",
    "def pdf_to_txt(pdf_file_path):\n",
    "    \"\"\"Converts a PDF file to text.\"\"\"\n",
    "    try:\n",
    "        with open(pdf_file_path, 'rb') as pdf_file:\n",
    "            pdf_reader = PyPDF2.PdfReader(pdf_file)\n",
    "            text = \"\"\n",
    "            \n",
    "            for page_num in range(len(pdf_reader.pages)):\n",
    "                page = pdf_reader.pages[page_num]\n",
    "                page_text = page.extract_text()\n",
    "                if page_text:\n",
    "                    text += page_text\n",
    "                else:\n",
    "                    print(f\"Warning: No text extracted from page {page_num + 1}\")\n",
    "\n",
    "        return text\n",
    "    except Exception as e:\n",
    "        print(f\"Error while processing the PDF: {e}\")\n",
    "        return \"\""
   ]
  },
  {
   "cell_type": "code",
   "execution_count": null,
   "metadata": {},
   "outputs": [
    {
     "name": "stdout",
     "output_type": "stream",
     "text": [
      "The PDF already contains a valid %%EOF marker.\n",
      "Error while repairing the PDF: startxref not found\n",
      "Error while processing the PDF: startxref not found\n"
     ]
    },
    {
     "data": {
      "text/plain": [
       "''"
      ]
     },
     "execution_count": 22,
     "metadata": {},
     "output_type": "execute_result"
    }
   ],
   "source": [
    "target_pdf_path = \"textsplit-paper-ex.ipynb\"\n",
    "add_eof_marker(target_pdf_path)\n",
    "pdf_to_txt(target_pdf_path)"
   ]
  },
  {
   "cell_type": "markdown",
   "metadata": {},
   "source": [
    "### Pre-Process Corpus & Word2Vec"
   ]
  },
  {
   "cell_type": "markdown",
   "metadata": {},
   "source": [
    "- Only need to \"train\" word vectors on a text corpus once, and keep wrdvecs.bin file around to load into model\n",
    "  - Can also use pre-trained word2vec, this code re-trains word2vec on custom text corpus\n",
    "\n",
    "- Text corpus should be txt file\n",
    "  - best practices: corpus should already betokenized, lower case, UTF-8 encoding, and large"
   ]
  },
  {
   "cell_type": "code",
   "execution_count": null,
   "metadata": {},
   "outputs": [],
   "source": [
    "# corpus_path = \"./text8\" # corpus downloaded from Matt \n",
    "# wrdvec_path = 'wrdvecs.bin'\n",
    "# # don't need to re-train word vectors if this file exists\n",
    "# if not os.path.exists(wrdvec_path):\n",
    "#     %time word2vec.word2vec(corpus_path, wrdvec_path, cbow=1, iter_=5, hs=1, threads=8, sample='1e-5', window=15, size=200, binary=1)"
   ]
  },
  {
   "cell_type": "code",
   "execution_count": null,
   "metadata": {},
   "outputs": [
    {
     "name": "stdout",
     "output_type": "stream",
     "text": [
      "wrdvecs.shape (3000000, 300)\n"
     ]
    }
   ],
   "source": [
    "# Specify the path to the model file (replace with your path)\n",
    "wrdvecs_path = './data/GoogleNews-vectors-negative300.bin'\n",
    "\n",
    "# Load the pre-trained Word2Vec model\n",
    "model = gensim.models.KeyedVectors.load_word2vec_format(wrdvecs_path, binary=True)\n",
    "model.save(\"google_news_word2vec.model\")\n",
    "\n",
    "wrdvecs = pd.DataFrame(model.vectors, index=model.key_to_index.keys())\n",
    "del model\n",
    "# Print the shape of the word vectors DataFrame\n",
    "print(\"wrdvecs.shape\", wrdvecs.shape)"
   ]
  },
  {
   "cell_type": "markdown",
   "metadata": {},
   "source": [
    "## Textsplit Algorithm"
   ]
  },
  {
   "cell_type": "code",
   "execution_count": 46,
   "metadata": {},
   "outputs": [],
   "source": [
    "sentence_tokenizer = SimpleSentenceTokenizer()\n",
    "\n",
    "segment_len = 10 # segment target length in sentences\n",
    "path = os.path.basename(\"just-text-sample.txt\")\n",
    "\n",
    "with open(path, 'rt') as f:\n",
    "    text = f.read()  #.replace('\\n', ' ')  # punkt tokenizer handles newlines not so nice\n",
    "\n",
    "sentenced_text = sentence_tokenizer(text)\n",
    "vecr = CountVectorizer(vocabulary=wrdvecs.index)\n",
    "sentence_vectors = vecr.transform(sentenced_text).dot(wrdvecs)"
   ]
  },
  {
   "cell_type": "code",
   "execution_count": 47,
   "metadata": {},
   "outputs": [
    {
     "name": "stdout",
     "output_type": "stream",
     "text": [
      "penalty 5.62\n",
      "65 sentences, 6 segments, avg 10.83 sentences per segment\n"
     ]
    }
   ],
   "source": [
    "penalty = get_penalty([sentence_vectors], segment_len)\n",
    "print('penalty %4.2f' % penalty)\n",
    "\n",
    "optimal_segmentation = split_optimal(sentence_vectors, penalty, seg_limit=250)\n",
    "segmented_text = get_segments(sentenced_text, optimal_segmentation)\n",
    "\n",
    "print('%d sentences, %d segments, avg %4.2f sentences per segment' % (\n",
    "    len(sentenced_text), len(segmented_text), len(sentenced_text) / len(segmented_text)))\n",
    "\n",
    "with open(path + '.seg', 'wt') as f:\n",
    "    for i, segment_sentences in enumerate(segmented_text):\n",
    "        segment_str = ' // '.join(segment_sentences)\n",
    "        gain = optimal_segmentation.gains[i] if i < len(segmented_text) - 1 else 0\n",
    "        segment_info = ' [%d sentences, %4.3f] ' % (len(segment_sentences), gain) \n",
    "        print(segment_str + '\\n8<' + '=' * 30 + segment_info + \"=\" * 30, file=f)"
   ]
  },
  {
   "cell_type": "code",
   "execution_count": null,
   "metadata": {},
   "outputs": [
    {
     "name": "stdout",
     "output_type": "stream",
     "text": [
      "optimal score 1029.73, greedy score 1029.00\n",
      "ratio of scores 1.0007\n"
     ]
    },
    {
     "data": {
      "image/png": "[encoded data removed]",
      "text/plain": [
       "<Figure size 1800x300 with 1 Axes>"
      ]
     },
     "metadata": {},
     "output_type": "display_data"
    },
    {
     "data": {
      "image/png": "[encoded data removed]",
      "text/plain": [
       "<Figure size 1000x300 with 1 Axes>"
      ]
     },
     "metadata": {},
     "output_type": "display_data"
    }
   ],
   "source": [
    "greedy_segmentation = split_greedy(sentence_vectors, max_splits=len(optimal_segmentation.splits))\n",
    "greedy_segmented_text = get_segments(sentenced_text, greedy_segmentation)\n",
    "lengths_optimal = [len(segment) for segment in segmented_text for sentence in segment]\n",
    "lengths_greedy = [len(segment) for segment in greedy_segmented_text for sentence in segment]\n",
    "df = pd.DataFrame({'greedy':lengths_greedy, 'optimal': lengths_optimal})\n",
    "df.plot.line(figsize=(18, 3), title='Segment lengths over text')\n",
    "df.plot.hist(bins=30, alpha=0.5, figsize=(10, 3), title='Histogram of segment lengths')\n",
    "\n",
    "totals = [get_total(sentence_vectors, seg.splits, penalty) \n",
    "          for seg in [optimal_segmentation, greedy_segmentation]]\n",
    "print('optimal score %4.2f, greedy score %4.2f' % tuple(totals))\n",
    "print('ratio of scores %5.4f' % (totals[0] / totals[1]))"
   ]
  }
 ],
 "metadata": {
  "kernelspec": {
   "display_name": "venv",
   "language": "python",
   "name": "python3"
  },
  "language_info": {
   "codemirror_mode": {
    "name": "ipython",
    "version": 3
   },
   "file_extension": ".py",
   "mimetype": "text/x-python",
   "name": "python",
   "nbconvert_exporter": "python",
   "pygments_lexer": "ipython3",
   "version": "3.9.13"
  }
 },
 "nbformat": 4,
 "nbformat_minor": 2
}
