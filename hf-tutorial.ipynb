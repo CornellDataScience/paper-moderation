{
 "cells": [
  {
   "cell_type": "markdown",
   "metadata": {},
   "source": [
    "# HuggingFace Transformers Tutorial (for NLP)\n",
    "### author: Deniz Bölöni-Turgut (db823, class of 2026)\n",
    "\n",
    "**pre-requisites**: familiarity with Python, and some general knowledge about NLP.\n",
    "\n",
    "Originally developed in Mar 2025 for CDS x arXiv: Paper Moderation project. Only covers NLP models (i.e. tokenization etc)."
   ]
  },
  {
   "cell_type": "markdown",
   "metadata": {},
   "source": [
    "## Why learn this at all?! "
   ]
  },
  {
   "cell_type": "markdown",
   "metadata": {},
   "source": [
    "- HuggingFace is an online platform with pre-trained models and datasets which is very popular in teh machine learning community.\n",
    "- Any ML model worth its weight (matrices) is usually submitted to HuggingFace for anyone to download and use out of the box\n",
    "- HuggingFace also has a very intuitive interface for creating datasets, and fine-tuning and running ML models (i.e. Pipelines)\n",
    "  - Much easier to learn than PyTorch (in my opinion)\n",
    "- Allows you to abstract away the details of model architectures, and experiment with different types of models\n",
    "- You can put it on your resume ;)"
   ]
  },
  {
   "cell_type": "markdown",
   "metadata": {},
   "source": [
    "## Part I: Virtual Env Setup"
   ]
  },
  {
   "cell_type": "markdown",
   "metadata": {},
   "source": [
    "Using your virtual environment of choice, install PyTorch and HuggingFace Transformers. Here's an example using Python venv.\n",
    "TODO"
   ]
  },
  {
   "cell_type": "code",
   "execution_count": null,
   "metadata": {},
   "outputs": [],
   "source": [
    "import transformers # the main character"
   ]
  },
  {
   "cell_type": "markdown",
   "metadata": {},
   "source": [
    "## Part II: Datasets"
   ]
  },
  {
   "cell_type": "code",
   "execution_count": null,
   "metadata": {},
   "outputs": [],
   "source": [
    "from datasets import Dataset"
   ]
  },
  {
   "cell_type": "markdown",
   "metadata": {},
   "source": [
    "you can use dataset from hugging face directly on pandas dictionaries ( i think ) need to look more into this part"
   ]
  },
  {
   "cell_type": "markdown",
   "metadata": {},
   "source": [
    "## Part III: Tokenization"
   ]
  },
  {
   "cell_type": "markdown",
   "metadata": {},
   "source": [
    "## Part IV: Model Fine-Tuning"
   ]
  },
  {
   "cell_type": "markdown",
   "metadata": {},
   "source": [
    "## Part V: Inference"
   ]
  }
 ],
 "metadata": {
  "language_info": {
   "name": "python"
  }
 },
 "nbformat": 4,
 "nbformat_minor": 2
}
